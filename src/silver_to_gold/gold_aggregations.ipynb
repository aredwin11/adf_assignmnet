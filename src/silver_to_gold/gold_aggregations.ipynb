{
 "cells": [
  {
   "cell_type": "code",
   "execution_count": 0,
   "metadata": {
    "application/vnd.databricks.v1+cell": {
     "cellMetadata": {
      "byteLimit": 2048000,
      "rowLimit": 10000
     },
     "inputWidgets": {},
     "nuid": "35df89ef-0911-4bc8-a0be-2d6ad42c0796",
     "showTitle": false,
     "tableResultSettingsMap": {},
     "title": ""
    }
   },
   "outputs": [],
   "source": [
    "%run /Workspace/Users/mrudular_2021@vemanait.edu.in/adf_assignmnet/src/bronze_to_silver/utils"
   ]
  },
  {
   "cell_type": "code",
   "execution_count": 0,
   "metadata": {
    "application/vnd.databricks.v1+cell": {
     "cellMetadata": {
      "byteLimit": 2048000,
      "rowLimit": 10000
     },
     "inputWidgets": {},
     "nuid": "6fc7f609-74ad-4dc2-aec8-c6801fd6d442",
     "showTitle": false,
     "tableResultSettingsMap": {
      "0": {
       "dataGridStateBlob": "{\"version\":1,\"tableState\":{\"columnPinning\":{\"left\":[\"#row_number#\"],\"right\":[]},\"columnSizing\":{},\"columnVisibility\":{}},\"settings\":{\"columns\":{\"image_url\":{\"format\":{\"preset\":\"string-preset-url\"}}}},\"syncTimestamp\":1754574586516}",
       "filterBlob": null,
       "queryPlanFiltersBlob": null,
       "tableResultIndex": 0
      }
     },
     "title": ""
    }
   },
   "outputs": [],
   "source": [
    "from pyspark.sql.functions import col\n",
    "\n",
    "# Step 1: Load delta tables\n",
    "silver_base_path = \"abfss://silver@edwinadfassign.dfs.core.windows.net/sales-view\"\n",
    "gold_output_path = \"abfss://gold@edwinadfassign.dfs.core.windows.net/sales_view/StoreProductSalesAnalysis\"\n",
    "\n",
    "sales_df = read_delta_with_snake_case(spark, f\"{silver_base_path}/customer_sales\")\n",
    "product_df = read_delta_with_snake_case(spark, f\"{silver_base_path}/product\")\n",
    "store_df = read_delta_with_snake_case(spark, f\"{silver_base_path}/store\")\n",
    "\n",
    "sales_df = sales_df.withColumnRenamed(\"product__id\", \"product_id\")\n",
    "\n",
    "# Step 2: Enrich with store-product data\n",
    "store_product_df = get_store_product_data(product_df, store_df)\n",
    "\n",
    "# Step 3: Join\n",
    "final_df = enrich_sales_with_store_product(sales_df, store_product_df)\n",
    "\n",
    "# Step 4: Resolve duplicates (remove duplicate `order_date` if it appears twice)\n",
    "# Check for duplicates manually\n",
    "duplicate_cols = [col_name for col_name in final_df.columns if final_df.columns.count(col_name) > 1]\n",
    "if duplicate_cols:\n",
    "    print(f\"Duplicate Columns Detected: {duplicate_cols}\")\n",
    "\n",
    "# Optional: Drop duplicate columns if they came from right-side join\n",
    "final_df = final_df.drop(*set(duplicate_cols[1:]))\n",
    "\n",
    "# Step 5: Select required columns\n",
    "selected_cols = [\n",
    "    \"order_date\", \"category\", \"city\", \"customer_id\", \"order_id\", \"product_id\", \"profit\", \"region\", \"sales\", \"segment\",\n",
    "    \"ship_date\", \"ship_mode\", \"latitude\", \"longitude\",\n",
    "    \"store_name\", \"location\", \"manager_name\", \"product_name\", \"price\", \"stock_quantity\", \"image_url\"\n",
    "]\n",
    "\n",
    "# Only select columns that exist in final_df\n",
    "selected_cols = [col for col in selected_cols if col in final_df.columns]\n",
    "\n",
    "final_df = final_df.select(*selected_cols)\n",
    "final_df.display()\n",
    "\n",
    "# Step 6: Write to gold layer\n",
    "final_df.write.format(\"delta\").mode(\"overwrite\").option(\"overwriteSchema\", \"true\").save(gold_output_path)\n",
    "\n",
    "# Optional: Register as table\n",
    "spark.sql(\"DROP TABLE IF EXISTS StoreProductSalesAnalysis\")\n",
    "spark.sql(f\"\"\"\n",
    "    CREATE TABLE StoreProductSalesAnalysis\n",
    "    USING DELTA\n",
    "    LOCATION '{gold_output_path}'\n",
    "\"\"\")\n"
   ]
  }
 ],
 "metadata": {
  "application/vnd.databricks.v1+notebook": {
   "computePreferences": null,
   "dashboards": [],
   "environmentMetadata": {
    "base_environment": "",
    "environment_version": "2"
   },
   "inputWidgetPreferences": null,
   "language": "python",
   "notebookMetadata": {
    "pythonIndentUnit": 4
   },
   "notebookName": "gold_aggregations",
   "widgets": {}
  },
  "language_info": {
   "name": "python"
  }
 },
 "nbformat": 4,
 "nbformat_minor": 0
}
